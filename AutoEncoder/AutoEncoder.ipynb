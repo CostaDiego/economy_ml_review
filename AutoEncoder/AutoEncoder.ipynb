{
 "cells": [
  {
   "cell_type": "code",
   "execution_count": 23,
   "metadata": {},
   "outputs": [],
   "source": [
    "from keras.layers import Dense,Conv2D,MaxPooling2D,UpSampling2D\n",
    "from keras import Input, Model\n",
    "from keras.datasets import mnist\n",
    "import numpy as np\n",
    "import matplotlib.pyplot as plt"
   ]
  },
  {
   "cell_type": "code",
   "execution_count": 24,
   "metadata": {},
   "outputs": [],
   "source": [
    "\n",
    "encoding_dim = 20\n",
    "input_img = Input(shape=(784,))\n",
    "encoded = Dense(encoding_dim, activation='relu')(input_img)\n",
    "decoded = Dense(784, activation='sigmoid')(encoded)\n",
    "autoencoder = Model(input_img, decoded)"
   ]
  },
  {
   "cell_type": "code",
   "execution_count": 25,
   "metadata": {},
   "outputs": [],
   "source": [
    "encoder = Model(input_img, encoded)\n",
    "encoded_input = Input(shape=(encoding_dim,))\n",
    "decoder_layer = autoencoder.layers[-1]\n",
    "decoder = Model(encoded_input, decoder_layer(encoded_input))"
   ]
  },
  {
   "cell_type": "code",
   "execution_count": 26,
   "metadata": {},
   "outputs": [],
   "source": [
    "autoencoder.compile(optimizer='adam', loss='binary_crossentropy')"
   ]
  },
  {
   "cell_type": "code",
   "execution_count": 27,
   "metadata": {},
   "outputs": [],
   "source": [
    "(x_train, y_train), (x_test, y_test) = mnist.load_data()"
   ]
  },
  {
   "cell_type": "code",
   "execution_count": 28,
   "metadata": {},
   "outputs": [
    {
     "name": "stdout",
     "output_type": "stream",
     "text": [
      "(60000, 784)\n",
      "(10000, 784)\n"
     ]
    }
   ],
   "source": [
    "x_train = x_train.astype('float32') / 255.\n",
    "x_test = x_test.astype('float32') / 255.\n",
    "x_train = x_train.reshape((len(x_train), np.prod(x_train.shape[1:])))\n",
    "x_test = x_test.reshape((len(x_test), np.prod(x_test.shape[1:])))\n",
    "print(x_train.shape)\n",
    "print(x_test.shape)"
   ]
  },
  {
   "cell_type": "code",
   "execution_count": 30,
   "metadata": {},
   "outputs": [
    {
     "name": "stdout",
     "output_type": "stream",
     "text": [
      "Epoch 1/15\n",
      "235/235 [==============================] - 1s 5ms/step - loss: 0.2976 - val_loss: 0.2104\n",
      "Epoch 2/15\n",
      "235/235 [==============================] - 1s 5ms/step - loss: 0.1886 - val_loss: 0.1708\n",
      "Epoch 3/15\n",
      "235/235 [==============================] - 1s 4ms/step - loss: 0.1620 - val_loss: 0.1514\n",
      "Epoch 4/15\n",
      "235/235 [==============================] - 1s 5ms/step - loss: 0.1465 - val_loss: 0.1397\n",
      "Epoch 5/15\n",
      "235/235 [==============================] - 1s 6ms/step - loss: 0.1376 - val_loss: 0.1330\n",
      "Epoch 6/15\n",
      "235/235 [==============================] - 1s 5ms/step - loss: 0.1323 - val_loss: 0.1288\n",
      "Epoch 7/15\n",
      "235/235 [==============================] - 1s 5ms/step - loss: 0.1288 - val_loss: 0.1260\n",
      "Epoch 8/15\n",
      "235/235 [==============================] - 1s 5ms/step - loss: 0.1262 - val_loss: 0.1235\n",
      "Epoch 9/15\n",
      "235/235 [==============================] - 2s 7ms/step - loss: 0.1240 - val_loss: 0.1215\n",
      "Epoch 10/15\n",
      "235/235 [==============================] - 1s 5ms/step - loss: 0.1222 - val_loss: 0.1198\n",
      "Epoch 11/15\n",
      "235/235 [==============================] - 1s 6ms/step - loss: 0.1206 - val_loss: 0.1185\n",
      "Epoch 12/15\n",
      "235/235 [==============================] - 1s 6ms/step - loss: 0.1194 - val_loss: 0.1174\n",
      "Epoch 13/15\n",
      "235/235 [==============================] - 1s 5ms/step - loss: 0.1186 - val_loss: 0.1166\n",
      "Epoch 14/15\n",
      "235/235 [==============================] - 1s 6ms/step - loss: 0.1180 - val_loss: 0.1162\n",
      "Epoch 15/15\n",
      "235/235 [==============================] - 1s 6ms/step - loss: 0.1176 - val_loss: 0.1158\n"
     ]
    },
    {
     "data": {
      "text/plain": [
       "<keras.callbacks.History at 0x7f938b021070>"
      ]
     },
     "execution_count": 30,
     "metadata": {},
     "output_type": "execute_result"
    }
   ],
   "source": [
    "autoencoder.fit(x_train, x_train,\n",
    "                epochs=15,\n",
    "                batch_size=256,\n",
    "                validation_data=(x_test, x_test))"
   ]
  },
  {
   "cell_type": "code",
   "execution_count": 40,
   "metadata": {},
   "outputs": [
    {
     "data": {
      "image/png": "[encoded data removed]",
      "text/plain": [
       "<Figure size 1440x288 with 10 Axes>"
      ]
     },
     "metadata": {
      "needs_background": "light"
     },
     "output_type": "display_data"
    }
   ],
   "source": [
    "encoded_img = encoder.predict(x_test)\n",
    "decoded_img = decoder.predict(encoded_img)\n",
    "plt.figure(figsize=(20, 4))\n",
    "for i in range(5):\n",
    "    # Imagens originais\n",
    "    ax = plt.subplot(2, 5, i + 1)\n",
    "    plt.imshow(x_test[i].reshape(28, 28))\n",
    "    ax.get_xaxis().set_visible(False)\n",
    "    ax.get_yaxis().set_visible(False)\n",
    "\n",
    "    # Imagens reconstruidas\n",
    "    ax = plt.subplot(2, 5, i + 1 + 5)\n",
    "    plt.imshow(decoded_img[i].reshape(28, 28))\n",
    "    ax.get_xaxis().set_visible(False)\n",
    "    ax.get_yaxis().set_visible(False)\n",
    "plt.show()"
   ]
  }
 ],
 "metadata": {
  "interpreter": {
   "hash": "40d3a090f54c6569ab1632332b64b2c03c39dcf918b08424e98f38b5ae0af88f"
  },
  "kernelspec": {
   "display_name": "Python 3.8.8 ('base')",
   "language": "python",
   "name": "python3"
  },
  "language_info": {
   "codemirror_mode": {
    "name": "ipython",
    "version": 3
   },
   "file_extension": ".py",
   "mimetype": "text/x-python",
   "name": "python",
   "nbconvert_exporter": "python",
   "pygments_lexer": "ipython3",
   "version": "3.8.8"
  },
  "orig_nbformat": 4
 },
 "nbformat": 4,
 "nbformat_minor": 2
}
