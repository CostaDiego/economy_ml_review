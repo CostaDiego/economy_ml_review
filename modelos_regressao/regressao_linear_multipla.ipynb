{
 "cells": [
  {
   "cell_type": "code",
   "execution_count": 1,
   "id": "a0f1bfc7-fac2-44c5-aec9-c2d207ef32b5",
   "metadata": {},
   "outputs": [],
   "source": [
    "import pandas\n",
    "from sklearn import linear_model"
   ]
  },
  {
   "cell_type": "code",
   "execution_count": 2,
   "id": "2f932fc9-6875-4a16-b99f-41fe32374ade",
   "metadata": {},
   "outputs": [],
   "source": [
    "DATASET_PATH = \"data/cars.csv\""
   ]
  },
  {
   "cell_type": "code",
   "execution_count": 7,
   "id": "0937a67e-50e4-4b1e-bc8e-af45b592608e",
   "metadata": {},
   "outputs": [
    {
     "name": "stdout",
     "output_type": "stream",
     "text": [
      "Index(['Car', 'Model', 'Volume', 'Weight', 'CO2'], dtype='object')\n"
     ]
    }
   ],
   "source": [
    "df = pandas.read_csv(DATASET_PATH)\n",
    "\n",
    "print(df.columns)"
   ]
  },
  {
   "cell_type": "code",
   "execution_count": null,
   "id": "bbf11227-64d4-4d4c-951c-a6e818affe14",
   "metadata": {},
   "outputs": [],
   "source": [
    "X = df[['Weight', 'Volume']]\n",
    "y = df['CO2']"
   ]
  },
  {
   "cell_type": "code",
   "execution_count": 4,
   "id": "f41fe47b-778d-4099-a6cf-491f9c68a7e5",
   "metadata": {},
   "outputs": [
    {
     "data": {
      "text/plain": [
       "LinearRegression()"
      ]
     },
     "execution_count": 4,
     "metadata": {},
     "output_type": "execute_result"
    }
   ],
   "source": [
    "regr = linear_model.LinearRegression()\n",
    "regr.fit(X, y)"
   ]
  },
  {
   "cell_type": "code",
   "execution_count": 5,
   "id": "c14fd726-27bf-486d-aea1-5297ae0625d3",
   "metadata": {},
   "outputs": [
    {
     "name": "stderr",
     "output_type": "stream",
     "text": [
      "/home/costadiego/libs/anaconda3/envs/economy_ml/lib/python3.10/site-packages/sklearn/base.py:450: UserWarning: X does not have valid feature names, but LinearRegression was fitted with feature names\n",
      "  warnings.warn(\n"
     ]
    }
   ],
   "source": [
    "#predict the CO2 emission of a car where the weight is 2300kg, and the volume is 1300cm3:\n",
    "predictedCO2 = regr.predict([[2300, 1300]])"
   ]
  },
  {
   "cell_type": "code",
   "execution_count": 6,
   "id": "eb87bc2d-7b2a-4d1a-b236-444d554f1d45",
   "metadata": {},
   "outputs": [
    {
     "name": "stdout",
     "output_type": "stream",
     "text": [
      "[107.2087328]\n"
     ]
    }
   ],
   "source": [
    "print(predictedCO2)"
   ]
  }
 ],
 "metadata": {
  "kernelspec": {
   "display_name": "economy_ml",
   "language": "python",
   "name": "economy_ml"
  },
  "language_info": {
   "codemirror_mode": {
    "name": "ipython",
    "version": 3
   },
   "file_extension": ".py",
   "mimetype": "text/x-python",
   "name": "python",
   "nbconvert_exporter": "python",
   "pygments_lexer": "ipython3",
   "version": "3.10.0"
  }
 },
 "nbformat": 4,
 "nbformat_minor": 5
}
